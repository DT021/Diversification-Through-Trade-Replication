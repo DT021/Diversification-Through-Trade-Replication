{
 "cells": [
  {
   "cell_type": "code",
   "execution_count": 1,
   "metadata": {},
   "outputs": [
    {
     "name": "stderr",
     "output_type": "stream",
     "text": [
      "WARNING: Method definition warn(Any...) in module Base at util.jl:589 overwritten in module Logging at /Applications/JuliaPro-0.6.4.1.app/Contents/Resources/pkgs-0.6.4.1/v0.6/Logging/src/Logging.jl:115.\n",
      "WARNING: Method definition info(Any...) in module Base at util.jl:534 overwritten in module Logging at /Applications/JuliaPro-0.6.4.1.app/Contents/Resources/pkgs-0.6.4.1/v0.6/Logging/src/Logging.jl:115.\n"
     ]
    },
    {
     "data": {
      "text/plain": [
       "Dict{Symbol,Any} with 45 entries:\n",
       "  :S_nt                     => [0.0 0.0 … 0.0 0.0]…\n",
       "  :one_over_rho             => 0.0\n",
       "  :inner_tolerance          => 0.0002\n",
       "  :S_nt_data                => [1184.95 -1239.14 … -406.84 1074.1]…\n",
       "  :eta                      => 4.0\n",
       "  :S                        => 101\n",
       "  :sigma                    => 0.999\n",
       "  :d                        => [0.991383 7.85e-7 … 0.000689 0.0004425; 7.42e-5 …\n",
       "  :adjustment_tolerance     => 0.0004\n",
       "  :middle_step_size         => 0.449329\n",
       "  :A_njs                    => Array{Float64,4}[[1466.01 503.068 … 1568.37 7165…\n",
       "  :gamma_jk                 => [0.17112 0.273944 … 0.0195213 0.0108426; 0.04826…\n",
       "  :p_sectoral               => [1.26077 2.37256 … 1.79398 1.0]…\n",
       "  :B_j                      => [5.5087]…\n",
       "  :max_iter_adjustment      => 100\n",
       "  :w_njt                    => [53118.2 20374.8 … 1.48903e5 1.12031e6]…\n",
       "  :global_sectoral_shock    => [7.02105e-15]…\n",
       "  :country_shock_njs        => Array{Float64,4}[[-2.70302e-16 -4.55127e-16 … 7.…\n",
       "  :idiosyncratic_shock_njs  => Array{Float64,4}[[1.02081e-15 -4.59697e-16 … -4.…\n",
       "  :max_iter_inner           => 200\n",
       "  :N                        => 25\n",
       "  :country_shock            => [-2.70302e-16 -4.55127e-16 … 7.44573e-16 1.47482…\n",
       "  :outer_tolerance          => 0.001\n",
       "  :max_iter_outer           => 100\n",
       "  :final_expenditure_shares => [0.0798495 0.0799227 … 0.0798855 0.0798156]…\n",
       "  ⋮                         => ⋮"
      ]
     },
     "execution_count": 1,
     "metadata": {},
     "output_type": "execute_result"
    }
   ],
   "source": [
    "include(\"../output.jl\")\n",
    "using ImpvolOutput, CSV, JLD2, FileIO, Plots\n",
    "gr()\n",
    "default(fmt = :png)\n",
    "parameters = load(\"../experiments/baseline/common_parameters.jld2\")[\"parameters\"]"
   ]
  },
  {
   "cell_type": "code",
   "execution_count": 2,
   "metadata": {},
   "outputs": [
    {
     "data": {
      "text/plain": [
       "load_expenditure (generic function with 1 method)"
      ]
     },
     "execution_count": 2,
     "metadata": {},
     "output_type": "execute_result"
    }
   ],
   "source": [
    "function load_GDP(scenario)\n",
    "    if scenario==\"data\"\n",
    "        data = load(\"../data/impvol_data.jld2\")\n",
    "        cpi = CSV.read(\"../data/cpi.csv\")\n",
    "        us_cpi = reshape(cpi[:,end] ./ cpi[1,end], (1,1,1,36))\n",
    "        dollar_price_index = data[\"pwt\"] .* us_cpi\n",
    "        return (sum(data[\"va\"], 3) ./ dollar_price_index)[1,:,1,:]'\n",
    "    else\n",
    "        results = load(\"../experiments/$scenario/results.jld2\")[\"results\"]\n",
    "        return sum(ImpvolOutput.make_series(results, :real_GDP), 3)[1,:,1,:]'\n",
    "    end\n",
    "end\n",
    "function load_import(scenario)\n",
    "    results = load(\"../experiments/$scenario/results.jld2\")[\"results\"]\n",
    "    expenditure_mjt = ImpvolOutput.make_series(results, :E_mjs)\n",
    "    trade_shares_mnjt = ImpvolOutput.make_series(results, :d_mnjs)\n",
    "    N, _, J, T = size(trade_shares_mnjt)\n",
    "    # zero out domestic spending so as not to count in imports\n",
    "    for n=1:N, j=1:J, t=1:T\n",
    "        trade_shares_mnjt[n,n,j,t] = 0.0\n",
    "    end\n",
    "    import_mjt = sum(trade_shares_mnjt, 2) .* expenditure_mjt\n",
    "    return sum(import_mjt, 3)[:,1,1,:]'\n",
    "end\n",
    "function load_expenditure(scenario)\n",
    "    results = load(\"../experiments/$scenario/results.jld2\")[\"results\"]\n",
    "    expenditure_mjt = ImpvolOutput.make_series(results, :E_mjs)\n",
    "    return sum(expenditure_mjt, 3)[:,1,1,:]'\n",
    "end"
   ]
  },
  {
   "cell_type": "code",
   "execution_count": 3,
   "metadata": {},
   "outputs": [
    {
     "data": {
      "text/plain": [
       "compare_trade (generic function with 1 method)"
      ]
     },
     "execution_count": 3,
     "metadata": {},
     "output_type": "execute_result"
    }
   ],
   "source": [
    "function compare_trade(scenarios, labels, country)\n",
    "    country_names = CSV.read(\"../experiments/baseline/output_table.csv\")[:country_names]\n",
    "    X = zeros(36, length(scenarios))\n",
    "    if country==0\n",
    "        name = \"World\"\n",
    "    else\n",
    "        name = country_names[country]\n",
    "    end\n",
    "    for s = 1:length(scenarios)\n",
    "        expenditure = load_expenditure(scenarios[s])\n",
    "        import_value = load_import(scenarios[s])\n",
    "        if country==0\n",
    "            X[:,s] .= (sum(import_value, 2) ./ sum(expenditure, 2) * 100)[:,1]\n",
    "        else\n",
    "            X[:,s] .= import_value[:,country] ./ expenditure[:,country] * 100\n",
    "        end\n",
    "    end\n",
    "    plot(1972:2007, X, label=labels, title=name, ylabel=\"Share of imports in expenditure (percent)\")\n",
    "end"
   ]
  },
  {
   "cell_type": "code",
   "execution_count": 4,
   "metadata": {},
   "outputs": [
    {
     "data": {
      "text/plain": [
       "compare (generic function with 2 methods)"
      ]
     },
     "execution_count": 4,
     "metadata": {},
     "output_type": "execute_result"
    }
   ],
   "source": [
    "function compare(scenarios, country, detrend=false)\n",
    "    country_names = CSV.read(\"../experiments/baseline/output_table.csv\")[:country_names]\n",
    "    X = zeros(36, length(scenarios))\n",
    "    if country==0\n",
    "        name = \"World\"\n",
    "    else\n",
    "        name = country_names[country]\n",
    "    end\n",
    "    for s = 1:length(scenarios)\n",
    "        GDP = log.(load_GDP(scenarios[s]))\n",
    "        if detrend\n",
    "          GDP, _ = ImpvolOutput.DetrendUtilities.detrend(GDP',parameters[:bp_weights])\n",
    "            GDP = GDP'\n",
    "        end\n",
    "        if country==0\n",
    "            X[:,s] .= log.(sum(exp.(GDP), 2)[:,1])\n",
    "        else\n",
    "            X[:,s] .= GDP[:,country]\n",
    "        end\n",
    "        println(var(X[:,s]))\n",
    "    end\n",
    "    plot(X, label=scenarios, title=name)\n",
    "end"
   ]
  },
  {
   "cell_type": "code",
   "execution_count": 15,
   "metadata": {},
   "outputs": [],
   "source": [
    "compare_trade([\"baseline/actual\", \"baseline/kappa1972\"], [\"Baseline\", \"Constant trade cost\"], 0)\n",
    "savefig(\"../output/trade_share.pdf\")"
   ]
  },
  {
   "cell_type": "code",
   "execution_count": null,
   "metadata": {},
   "outputs": [],
   "source": []
  }
 ],
 "metadata": {
  "kernelspec": {
   "display_name": "Julia 0.6.4",
   "language": "julia",
   "name": "julia-0.6"
  },
  "language_info": {
   "file_extension": ".jl",
   "mimetype": "application/julia",
   "name": "julia",
   "version": "0.6.4"
  }
 },
 "nbformat": 4,
 "nbformat_minor": 2
}
