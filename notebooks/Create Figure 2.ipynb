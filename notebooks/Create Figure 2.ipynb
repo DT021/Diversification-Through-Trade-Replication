{
 "cells": [
  {
   "cell_type": "code",
   "execution_count": 1,
   "metadata": {},
   "outputs": [],
   "source": [
    "using CSV, FileIO"
   ]
  },
  {
   "cell_type": "code",
   "execution_count": 2,
   "metadata": {},
   "outputs": [
    {
     "data": {
      "text/plain": [
       "Dict{String,Any} with 10 entries:\n",
       "  \"import_shares\"             => [0.0 7.85e-7 … 0.000689 0.0004425; 7.42e-5 0.0…\n",
       "  \"pwt\"                       => [0.824111 0.620073 … 0.747101 1.0]…\n",
       "  \"va\"                        => [3271.5 1407.45 … 4209.16 41311.0]…\n",
       "  \"p_sectoral_data\"           => [33.0109 64.7924 … 16.8926 36.7882]…\n",
       "  \"io_values\"                 => [2.49202e5 2423.0 … 6491.5 0.0; 4183.8 56086.1…\n",
       "  \"total_output\"              => [2.00728e6 8.11942e5 … 1.74308e6 66853.4]…\n",
       "  \"intermediate_input_shares\" => [0.973154 0.0268455 … 0.528231 0.294862]…\n",
       "  \"trade_balance\"             => [1184.95 -1239.14 … -406.84 1074.1]…\n",
       "  \"output_shares\"             => [0.967079 0.032921 … 0.521898 0.318506]…\n",
       "  \"beta\"                      => [0.230777 0.441 … 0.297884 0.370242]…"
      ]
     },
     "execution_count": 2,
     "metadata": {},
     "output_type": "execute_result"
    }
   ],
   "source": [
    "data = load(\"../data/impvol_data.jld2\")"
   ]
  },
  {
   "cell_type": "code",
   "execution_count": 3,
   "metadata": {},
   "outputs": [
    {
     "data": {
      "text/plain": [
       "25-element Array{Union{Missings.Missing, String},1}:\n",
       " \"Australia\"             \n",
       " \"Austria\"               \n",
       " \"Belgium and Luxembourg\"\n",
       " \"Canada\"                \n",
       " \"China\"                 \n",
       " \"Colombia\"              \n",
       " \"Denmark\"               \n",
       " \"Finland\"               \n",
       " \"France\"                \n",
       " \"Germany\"               \n",
       " \"Greece\"                \n",
       " \"India\"                 \n",
       " \"Ireland\"               \n",
       " \"Italy\"                 \n",
       " \"Japan\"                 \n",
       " \"Mexico\"                \n",
       " \"Netherlands\"           \n",
       " \"Norway\"                \n",
       " \"Portugal\"              \n",
       " \"ROW\"                   \n",
       " \"South Korea\"           \n",
       " \"Spain\"                 \n",
       " \"Sweden\"                \n",
       " \"United Kingdom\"        \n",
       " \"United States\"         "
      ]
     },
     "execution_count": 3,
     "metadata": {},
     "output_type": "execute_result"
    }
   ],
   "source": [
    "country_names = CSV.read(\"../experiments/baseline/output_table.csv\")[:country_names]"
   ]
  },
  {
   "cell_type": "code",
   "execution_count": 4,
   "metadata": {},
   "outputs": [
    {
     "data": {
      "text/plain": [
       "US_price_index (generic function with 1 method)"
      ]
     },
     "execution_count": 4,
     "metadata": {},
     "output_type": "execute_result"
    }
   ],
   "source": [
    "function US_price_index(data, experiment)\n",
    "    p_sectoral = data[\"p_sectoral_data\"][1,end,:,:]\n",
    "    parameters = load(\"../experiments/$experiment/common_parameters.jld2\")[\"parameters\"]\n",
    "    nu = parameters[:nu_njt][1,1,:,:]\n",
    "    sigma = parameters[:sigma]\n",
    "    return sum(nu .* p_sectoral .^ (1-sigma), 1) .^ (1/(1-sigma))\n",
    "end"
   ]
  },
  {
   "cell_type": "code",
   "execution_count": 5,
   "metadata": {},
   "outputs": [
    {
     "data": {
      "text/plain": [
       "1×36 Array{Float64,2}:\n",
       " 35.4369  38.2792  42.5554  46.6403  …  101.635  106.828  112.764  121.02"
      ]
     },
     "execution_count": 5,
     "metadata": {},
     "output_type": "execute_result"
    }
   ],
   "source": [
    "cpi = US_price_index(data, \"baseline\")"
   ]
  },
  {
   "cell_type": "code",
   "execution_count": 6,
   "metadata": {},
   "outputs": [
    {
     "data": {
      "text/plain": [
       "1×1×1×36 Array{Float64,4}:\n",
       "[:, :, 1, 1] =\n",
       " 1.0\n",
       "\n",
       "[:, :, 1, 2] =\n",
       " 1.08021\n",
       "\n",
       "[:, :, 1, 3] =\n",
       " 1.20088\n",
       "\n",
       "...\n",
       "\n",
       "[:, :, 1, 34] =\n",
       " 3.0146\n",
       "\n",
       "[:, :, 1, 35] =\n",
       " 3.18211\n",
       "\n",
       "[:, :, 1, 36] =\n",
       " 3.41508"
      ]
     },
     "execution_count": 6,
     "metadata": {},
     "output_type": "execute_result"
    }
   ],
   "source": [
    "# to conform with data structures\n",
    "us_cpi = reshape(cpi[end,:] ./ cpi[end,1], (1,1,1,36))"
   ]
  },
  {
   "cell_type": "code",
   "execution_count": 7,
   "metadata": {},
   "outputs": [
    {
     "data": {
      "text/plain": [
       "1×25×1×36 Array{Float64,4}:\n",
       "[:, :, 1, 1] =\n",
       " 0.824111  0.620073  0.816447  1.0138  …  0.469671  1.04781  0.747101  1.0\n",
       "\n",
       "[:, :, 1, 2] =\n",
       " 1.13936  0.795024  0.995663  1.11022  …  0.59099  1.25141  0.825284  1.08021\n",
       "\n",
       "[:, :, 1, 3] =\n",
       " 1.52996  0.933944  1.14979  1.28988  …  0.71763  1.38363  0.944267  1.20088\n",
       "\n",
       "...\n",
       "\n",
       "[:, :, 1, 34] =\n",
       " 2.9687  3.10978  3.24485  2.87797  …  2.75216  3.65456  3.34459  3.0146\n",
       "\n",
       "[:, :, 1, 35] =\n",
       " 3.09307  3.27387  3.43026  3.21288  …  2.95291  3.85804  3.56349  3.18211\n",
       "\n",
       "[:, :, 1, 36] =\n",
       " 3.69163  3.80254  3.96708  3.60814  …  3.46297  4.4728  4.11468  3.41508"
      ]
     },
     "execution_count": 7,
     "metadata": {},
     "output_type": "execute_result"
    }
   ],
   "source": [
    "dollar_price_index = data[\"pwt\"] .* us_cpi"
   ]
  },
  {
   "cell_type": "code",
   "execution_count": 8,
   "metadata": {},
   "outputs": [
    {
     "data": {
      "text/plain": [
       "1×25×1×36 Array{Float64,4}:\n",
       "[:, :, 1, 1] =\n",
       " 64455.1  32858.7  40728.9  96150.9  …  37030.6  1.99307e5  1.12031e6\n",
       "\n",
       "[:, :, 1, 2] =\n",
       " 65982.8  31871.0  43135.0  1.0269e5  …  37735.3  2.06264e5  1.16062e6\n",
       "\n",
       "[:, :, 1, 3] =\n",
       " 62482.1  32631.5  43912.9  1.08415e5  …  39417.2  1.97532e5  1.13239e6\n",
       "\n",
       "...\n",
       "\n",
       "[:, :, 1, 34] =\n",
       " 2.07894e5  88385.4  1.14103e5  3.67082e5  …  88693.0  6.07157e5  3.88509e6\n",
       "\n",
       "[:, :, 1, 35] =\n",
       " 2.14854e5  89878.8  114863.0  371576.0  …  90640.8  6.10731e5  3.89961e6\n",
       "\n",
       "[:, :, 1, 36] =\n",
       " 2.14192e5  89132.5  1.14673e5  3.69017e5  …  90536.3  6.08616e5  3.80577e6"
      ]
     },
     "execution_count": 8,
     "metadata": {},
     "output_type": "execute_result"
    }
   ],
   "source": [
    "real_GDP_data = sum(data[\"va\"], 3) ./ dollar_price_index"
   ]
  },
  {
   "cell_type": "code",
   "execution_count": 9,
   "metadata": {},
   "outputs": [
    {
     "name": "stderr",
     "output_type": "stream",
     "text": [
      "WARNING: Method definition warn(Any...) in module Base at util.jl:589 overwritten in module Logging at /Applications/JuliaPro-0.6.4.1.app/Contents/Resources/pkgs-0.6.4.1/v0.6/Logging/src/Logging.jl:115.\n",
      "WARNING: Method definition info(Any...) in module Base at util.jl:534 overwritten in module Logging at /Applications/JuliaPro-0.6.4.1.app/Contents/Resources/pkgs-0.6.4.1/v0.6/Logging/src/Logging.jl:115.\n"
     ]
    },
    {
     "data": {
      "text/plain": [
       "Dict{Symbol,Any} with 45 entries:\n",
       "  :S_nt                     => [0.0 0.0 … 0.0 0.0]…\n",
       "  :one_over_rho             => 0.0\n",
       "  :inner_tolerance          => 0.0002\n",
       "  :S_nt_data                => [1184.95 -1239.14 … -406.84 1074.1]…\n",
       "  :eta                      => 4.0\n",
       "  :S                        => 101\n",
       "  :sigma                    => 0.999\n",
       "  :d                        => [0.991383 7.85e-7 … 0.000689 0.0004425; 7.42e-5 …\n",
       "  :adjustment_tolerance     => 0.0004\n",
       "  :middle_step_size         => 0.449329\n",
       "  :A_njs                    => Array{Float64,4}[[1466.01 503.068 … 1568.37 7165…\n",
       "  :gamma_jk                 => [0.17112 0.273944 … 0.0195213 0.0108426; 0.04826…\n",
       "  :p_sectoral               => [1.26077 2.37256 … 1.79398 1.0]…\n",
       "  :B_j                      => [5.5087]…\n",
       "  :max_iter_adjustment      => 100\n",
       "  :w_njt                    => [53118.2 20374.8 … 1.48903e5 1.12031e6]…\n",
       "  :global_sectoral_shock    => [7.02105e-15]…\n",
       "  :country_shock_njs        => Array{Float64,4}[[-2.70733e-16 -4.55558e-16 … 7.…\n",
       "  :idiosyncratic_shock_njs  => Array{Float64,4}[[1.02124e-15 -4.59265e-16 … -4.…\n",
       "  :max_iter_inner           => 200\n",
       "  :N                        => 25\n",
       "  :country_shock            => [-2.70733e-16 -4.55558e-16 … 7.44142e-16 1.47439…\n",
       "  :outer_tolerance          => 0.001\n",
       "  :max_iter_outer           => 100\n",
       "  :final_expenditure_shares => [0.0798495 0.0799227 … 0.0798855 0.0798156]…\n",
       "  ⋮                         => ⋮"
      ]
     },
     "execution_count": 9,
     "metadata": {},
     "output_type": "execute_result"
    }
   ],
   "source": [
    "include(\"../output.jl\")\n",
    "using ImpvolOutput\n",
    "parameters = load(\"../experiments/baseline/common_parameters.jld2\")[\"parameters\"]\n"
   ]
  },
  {
   "cell_type": "code",
   "execution_count": 10,
   "metadata": {},
   "outputs": [
    {
     "data": {
      "text/plain": [
       "volatility (generic function with 1 method)"
      ]
     },
     "execution_count": 10,
     "metadata": {},
     "output_type": "execute_result"
    }
   ],
   "source": [
    "function volatility(scenario)\n",
    "    results = load(\"../experiments/$scenario/results.jld2\")[\"results\"]\n",
    "    real_GDP_model = sum(ImpvolOutput.make_series(results, :real_GDP), 3)\n",
    "    return ImpvolOutput.calculate_volatilities(real_GDP_model, parameters, true)[:].^0.5\n",
    "end"
   ]
  },
  {
   "cell_type": "code",
   "execution_count": 11,
   "metadata": {},
   "outputs": [
    {
     "data": {
      "text/plain": [
       "25×3 Array{Float64,2}:\n",
       " 0.0303417  0.0300324  0.0300731\n",
       " 0.0142093  0.023187   0.0200961\n",
       " 0.0178478  0.0319788  0.0282974\n",
       " 0.0139503  0.0243677  0.0207991\n",
       " 0.0762514  0.0789922  0.0782933\n",
       " 0.0293101  0.0331822  0.0377017\n",
       " 0.0168866  0.0210463  0.0191225\n",
       " 0.0209671  0.0248714  0.0255093\n",
       " 0.0136236  0.0139932  0.0143874\n",
       " 0.01504    0.0155931  0.0153524\n",
       " 0.0190854  0.0172922  0.025762 \n",
       " 0.0307193  0.0319376  0.0359316\n",
       " 0.0251652  0.0323663  0.0332292\n",
       " 0.0138399  0.0137948  0.0148073\n",
       " 0.0168999  0.0172045  0.0166729\n",
       " 0.0275213  0.0324076  0.0329034\n",
       " 0.0116397  0.0183437  0.0164287\n",
       " 0.0253615  0.0289954  0.0257151\n",
       " 0.0338734  0.0395185  0.0370693\n",
       " 0.0401589  0.0406178  0.0409356\n",
       " 0.0315266  0.0292037  0.0318188\n",
       " 0.0137769  0.0155436  0.0156149\n",
       " 0.0153384  0.0186054  0.0177927\n",
       " 0.0149432  0.0153756  0.0148609\n",
       " 0.0160794  0.0161791  0.0151603"
      ]
     },
     "execution_count": 11,
     "metadata": {},
     "output_type": "execute_result"
    }
   ],
   "source": [
    "data_volatility = ImpvolOutput.calculate_volatilities(real_GDP_data, parameters, true)[:].^0.5\n",
    "model_volatility = volatility(\"baseline/actual\")\n",
    "CES05_volatility = volatility(\"CES0.5/actual\")\n",
    "[data_volatility model_volatility CES05_volatility]"
   ]
  },
  {
   "cell_type": "code",
   "execution_count": 12,
   "metadata": {
    "scrolled": true
   },
   "outputs": [
    {
     "data": {
      "text/plain": [
       "regression (generic function with 1 method)"
      ]
     },
     "execution_count": 12,
     "metadata": {},
     "output_type": "execute_result"
    }
   ],
   "source": [
    "function regression(x, y)\n",
    "    X = [ones(length(x)) x]\n",
    "    beta = X \\ y\n",
    "    R2 = var(X * beta) / var(y)\n",
    "    return (beta, R2, X*beta)\n",
    "end"
   ]
  },
  {
   "cell_type": "code",
   "execution_count": null,
   "metadata": {},
   "outputs": [],
   "source": []
  },
  {
   "cell_type": "code",
   "execution_count": 20,
   "metadata": {},
   "outputs": [
    {
     "data": {
      "text/plain": [
       "(::#17) (generic function with 1 method)"
      ]
     },
     "execution_count": 20,
     "metadata": {},
     "output_type": "execute_result"
    }
   ],
   "source": [
    "using Plots\n",
    "import GR\n",
    "fm = x->repr(round(x, 3))\n"
   ]
  },
  {
   "cell_type": "code",
   "execution_count": 21,
   "metadata": {},
   "outputs": [
    {
     "data": {
      "text/plain": [
       "plot_model_data (generic function with 1 method)"
      ]
     },
     "execution_count": 21,
     "metadata": {},
     "output_type": "execute_result"
    }
   ],
   "source": [
    "function plot_model_data(scenario, fname)\n",
    "    model_volatility = volatility(scenario)\n",
    "    beta, R2, fitted = regression(data_volatility, model_volatility)\n",
    "    if beta[2]>0\n",
    "        label = \"y = $(fm(beta[1]))+$(fm(beta[2]))x\\nR2 = $(fm(R2)), rho = $(fm(R2^.5))\"\n",
    "    else\n",
    "        label = \"y = $(fm(beta[1]))-$(fm(-beta[2]))x\\nR2 = $(fm(R2)), rho = $(fm(-R2^.5))\"\n",
    "    end\n",
    "    plot(data_volatility, fitted, label=label, xlabel=\"Data volatility (standard deviation)\", size=(800,500))\n",
    "    scatter!(data_volatility, model_volatility, label=\"\", ylabel=\"Model volatility (standard deviation)\")\n",
    "    x = 0.002\n",
    "    for i=1:length(data_volatility)\n",
    "        annotate!(data_volatility[i], model_volatility[i]+x, text(country_names[i], :black, :center, 10))\n",
    "    end\n",
    "    savefig(fname)\n",
    "end"
   ]
  },
  {
   "cell_type": "code",
   "execution_count": 22,
   "metadata": {},
   "outputs": [
    {
     "data": {
      "text/plain": [
       "25-element Array{Float64,1}:\n",
       " 0.0300324\n",
       " 0.023187 \n",
       " 0.0319788\n",
       " 0.0243677\n",
       " 0.0789922\n",
       " 0.0331822\n",
       " 0.0210463\n",
       " 0.0248714\n",
       " 0.0139932\n",
       " 0.0155931\n",
       " 0.0172922\n",
       " 0.0319376\n",
       " 0.0323663\n",
       " 0.0137948\n",
       " 0.0172045\n",
       " 0.0324076\n",
       " 0.0183437\n",
       " 0.0289954\n",
       " 0.0395185\n",
       " 0.0406178\n",
       " 0.0292037\n",
       " 0.0155436\n",
       " 0.0186054\n",
       " 0.0153756\n",
       " 0.0161791"
      ]
     },
     "execution_count": 22,
     "metadata": {},
     "output_type": "execute_result"
    }
   ],
   "source": [
    "plot_model_data(\"baseline/actual\", \"../output/Figure2.pdf\")\n",
    "plot_model_data(\"CES0.5/actual\", \"../output/CES0.5-model-data.pdf\")\n",
    "model_volatility = volatility(\"baseline/actual\") "
   ]
  },
  {
   "cell_type": "code",
   "execution_count": 23,
   "metadata": {},
   "outputs": [
    {
     "data": {
      "text/html": [
       "0.8785749349078213"
      ],
      "text/plain": [
       "0.8785749349078213"
      ]
     },
     "execution_count": 23,
     "metadata": {},
     "output_type": "execute_result"
    }
   ],
   "source": [
    "# without china\n",
    "beta, R2 = regression([data_volatility[1:4]; data_volatility[6:end]], [model_volatility[1:4]; model_volatility[6:end]])\n",
    "correlation = R2^.5"
   ]
  },
  {
   "cell_type": "code",
   "execution_count": 24,
   "metadata": {},
   "outputs": [
    {
     "data": {
      "text/html": [
       "0.9867716811859206"
      ],
      "text/plain": [
       "0.9867716811859206"
      ]
     },
     "execution_count": 24,
     "metadata": {},
     "output_type": "execute_result"
    }
   ],
   "source": [
    "# correlation of variances\n",
    "beta, R2 = regression(data_volatility.^2, model_volatility.^2)\n",
    "correlation = R2^.5"
   ]
  },
  {
   "cell_type": "code",
   "execution_count": 25,
   "metadata": {},
   "outputs": [
    {
     "data": {
      "text/html": [
       "0.89200181820561"
      ],
      "text/plain": [
       "0.89200181820561"
      ]
     },
     "execution_count": 25,
     "metadata": {},
     "output_type": "execute_result"
    }
   ],
   "source": [
    "# correlation of variances\n",
    "# without china\n",
    "beta, R2 = regression([data_volatility[1:4]; data_volatility[6:end]].^2, [model_volatility[1:4]; model_volatility[6:end]].^2)\n",
    "correlation = R2^.5"
   ]
  },
  {
   "cell_type": "code",
   "execution_count": 27,
   "metadata": {
    "scrolled": true
   },
   "outputs": [],
   "source": [
    "plot_model_data(\"CES1.5/actual\", \"../output/CES2-model-data.pdf\")\n"
   ]
  },
  {
   "cell_type": "code",
   "execution_count": null,
   "metadata": {},
   "outputs": [],
   "source": []
  }
 ],
 "metadata": {
  "kernelspec": {
   "display_name": "Julia 0.6.4",
   "language": "julia",
   "name": "julia-0.6"
  },
  "language_info": {
   "file_extension": ".jl",
   "mimetype": "application/julia",
   "name": "julia",
   "version": "0.6.4"
  }
 },
 "nbformat": 4,
 "nbformat_minor": 2
}
